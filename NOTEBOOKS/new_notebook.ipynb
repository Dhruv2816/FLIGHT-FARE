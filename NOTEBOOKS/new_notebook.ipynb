{
 "cells": [
  {
   "cell_type": "code",
   "execution_count": 1,
   "metadata": {},
   "outputs": [],
   "source": [
    "import pandas as pd\n",
    "import numpy as np"
   ]
  },
  {
   "cell_type": "code",
   "execution_count": 2,
   "metadata": {},
   "outputs": [],
   "source": [
    "df = pd.read_csv(r\"C:\\Users\\dream\\OneDrive\\Desktop\\Flight_Flare_New\\DATA\\Cleaned_dataset.csv\")"
   ]
  },
  {
   "cell_type": "code",
   "execution_count": 3,
   "metadata": {},
   "outputs": [
    {
     "name": "stdout",
     "output_type": "stream",
     "text": [
      "<class 'pandas.core.frame.DataFrame'>\n",
      "RangeIndex: 452088 entries, 0 to 452087\n",
      "Data columns (total 13 columns):\n",
      " #   Column             Non-Null Count   Dtype  \n",
      "---  ------             --------------   -----  \n",
      " 0   Date_of_journey    452088 non-null  object \n",
      " 1   Journey_day        452088 non-null  object \n",
      " 2   Airline            452088 non-null  object \n",
      " 3   Flight_code        452088 non-null  object \n",
      " 4   Class              452088 non-null  object \n",
      " 5   Source             452088 non-null  object \n",
      " 6   Departure          452088 non-null  object \n",
      " 7   Total_stops        452088 non-null  object \n",
      " 8   Arrival            452088 non-null  object \n",
      " 9   Destination        452088 non-null  object \n",
      " 10  Duration_in_hours  452088 non-null  float64\n",
      " 11  Days_left          452088 non-null  int64  \n",
      " 12  Fare               452088 non-null  int64  \n",
      "dtypes: float64(1), int64(2), object(10)\n",
      "memory usage: 44.8+ MB\n"
     ]
    }
   ],
   "source": [
    "df.info()\n"
   ]
  },
  {
   "cell_type": "code",
   "execution_count": null,
   "metadata": {},
   "outputs": [],
   "source": []
  }
 ],
 "metadata": {
  "kernelspec": {
   "display_name": "Python 3",
   "language": "python",
   "name": "python3"
  },
  "language_info": {
   "codemirror_mode": {
    "name": "ipython",
    "version": 3
   },
   "file_extension": ".py",
   "mimetype": "text/x-python",
   "name": "python",
   "nbconvert_exporter": "python",
   "pygments_lexer": "ipython3",
   "version": "3.11.9"
  }
 },
 "nbformat": 4,
 "nbformat_minor": 2
}
